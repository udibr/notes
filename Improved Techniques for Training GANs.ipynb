{
 "cells": [
  {
   "cell_type": "markdown",
   "metadata": {},
   "source": [
    "# Improved Techniques for Training GANs \n",
    "http://arxiv.org/abs/1606.03498\n",
    "\n",
    "\n",
    "[code](https://github.com/openai/improved-gan),\n",
    "[demo](http://infinite-chamber-35121.herokuapp.com/cifar-minibatch/1/?),\n",
    "[related](http://www.inference.vc/understanding-minibatch-discrimination-in-gans/)\n",
    "\n",
    "### Feature matching\n",
    "problem: overtraining on the current discriminator\n",
    "\n",
    "solution:\n",
    "￼$||E_{x \\sim p_{\\text{data}}}f(x) - E_{z \\sim p_{z}(z)}f(G(z))||_{2}^{2}$\n",
    "\n",
    "were f(x) activations intermediate layer in discriminator\n",
    "### Minibatch discrimination\n",
    "problem: generator to collapse to a single point\n",
    "\n",
    "solution: for each sample i, concatenate to $f(x_i)$ features $b$ measuring its distance to other samples j (i and j are both real or generated samples in same batch):\n",
    "$\\sum_j \\exp(-||M_{i, b} - M_{j, b}||_{L_1})$\n",
    "￼\n",
    "this generates visually appealing samples very quickly\n",
    "### Historical averaging\n",
    "problem: SGD fails by going into extended orbits\n",
    "\n",
    "solution: parameters revert to the mean\n",
    "$|| \\theta - \\frac{1}{t} \\sum_{i=1}^t \\theta[i] ||^2$\n",
    "￼\n",
    "### One-sided label smoothing\n",
    "problem: discriminator vulnerability to adversarial examples\n",
    "\n",
    "solution: discriminator target for positive samples is 0.9 instead of 1\n",
    "\n",
    "### Virtual batch normalization\n",
    "problem: using BN cause output of examples in batch to be dependent\n",
    "\n",
    "solution: use reference batch chosen once at start of training and each sample is normalized using itself and the reference. It's\n",
    "expensive so used only on generation\n",
    "\n",
    "### Assessment of image quality\n",
    "problem: MTurk not reliable\n",
    "\n",
    "solution: use inception model p(y|x) to compute \n",
    "￼$\\exp(\\mathbb{E}_x \\text{KL}(p(y | x) || p(y)))$\n",
    "on 50K generated images x\n",
    "\n",
    "### Semi-supervised learning\n",
    "use the discriminator to also classify on K labels when known and\n",
    "use all real samples (labels and unlabeled) in the discrimination task\n",
    "￼$D(x) = \\frac{Z(x)}{Z(x) + 1}, \\text{ where } Z(x) = \\sum_{k=1}^{K} \\exp[l_k(x)]$.\n",
    "In this case use feature matching but not minibatch discrimination.\n",
    "It also improves the quality of generated images."
   ]
  }
 ],
 "metadata": {
  "anaconda-cloud": {},
  "kernelspec": {
   "display_name": "Python 2",
   "language": "python",
   "name": "python2"
  },
  "language_info": {
   "codemirror_mode": {
    "name": "ipython",
    "version": 2
   },
   "file_extension": ".py",
   "mimetype": "text/x-python",
   "name": "python",
   "nbconvert_exporter": "python",
   "pygments_lexer": "ipython2",
   "version": "2.7.12"
  }
 },
 "nbformat": 4,
 "nbformat_minor": 0
}
